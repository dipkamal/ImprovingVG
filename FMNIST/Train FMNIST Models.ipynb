{
 "cells": [
  {
   "cell_type": "code",
   "execution_count": 1,
   "id": "f6696803",
   "metadata": {},
   "outputs": [],
   "source": [
    "import numpy as np\n",
    "import torch\n",
    "import torch.nn as nn\n",
    "import torch.nn.functional as F\n",
    "import torchvision\n",
    "from torchvision.datasets import FashionMNIST as FashionMNISTDataset\n",
    "import kornia\n",
    "import matplotlib\n",
    "import matplotlib.pyplot as plt\n",
    "import captum\n",
    "import math \n",
    "from cleverhans.torch.attacks.projected_gradient_descent import (\n",
    "    projected_gradient_descent,\n",
    ")"
   ]
  },
  {
   "cell_type": "code",
   "execution_count": 2,
   "id": "f65b0412",
   "metadata": {},
   "outputs": [],
   "source": [
    "import gc\n",
    "from captum.attr import *\n",
    "import quantus"
   ]
  },
  {
   "cell_type": "code",
   "execution_count": 3,
   "id": "85230082",
   "metadata": {},
   "outputs": [],
   "source": [
    "device = 'cuda' if torch.cuda.is_available() else 'cpu'"
   ]
  },
  {
   "cell_type": "code",
   "execution_count": 7,
   "id": "bfec73f4",
   "metadata": {},
   "outputs": [],
   "source": [
    "transformer = torchvision.transforms.Compose([torchvision.transforms.ToTensor()])\n",
    "train_set = FashionMNISTDataset(root='./sample_data', train=True, transform=transformer, download=True)\n",
    "test_set = FashionMNISTDataset(root='./sample_data', train=False, transform=transformer, download=True)\n",
    "train_loader = torch.utils.data.DataLoader(train_set, batch_size=32, shuffle=True, pin_memory=True) # num_workers=4,\n",
    "test_loader = torch.utils.data.DataLoader(test_set, batch_size=32, pin_memory=True)"
   ]
  },
  {
   "cell_type": "code",
   "execution_count": 8,
   "id": "aeea3215",
   "metadata": {},
   "outputs": [],
   "source": [
    "#for natural and adversarial LeNet Model \n",
    "class LeNet_normal(torch.nn.Module):\n",
    "    \"\"\"Network architecture from: https://github.com/ChawDoe/LeNet5-MNIST-PyTorch.\"\"\"\n",
    "    def __init__(self):\n",
    "        super().__init__()\n",
    "        self.conv_1 = torch.nn.Conv2d(1, 6, 5)\n",
    "        self.pool_1 = torch.nn.MaxPool2d(2, 2)\n",
    "        self.relu_1 = torch.nn.ReLU()\n",
    "        self.conv_2 = torch.nn.Conv2d(6, 16, 5)\n",
    "        self.pool_2 = torch.nn.MaxPool2d(2, 2)\n",
    "        self.relu_2 = torch.nn.ReLU()\n",
    "        self.fc_1 = torch.nn.Linear(256, 120)\n",
    "        self.relu_3 = torch.nn.ReLU()\n",
    "        self.fc_2 = torch.nn.Linear(120, 84)\n",
    "        self.relu_4 = torch.nn.ReLU()\n",
    "        self.fc_3 = torch.nn.Linear(84, 10)\n",
    "\n",
    "    def forward(self, x):\n",
    "        x = self.pool_1(self.relu_1(self.conv_1(x)))\n",
    "        x = self.pool_2(self.relu_2(self.conv_2(x)))\n",
    "        x = x.view(x.shape[0], -1)\n",
    "        x = self.relu_3(self.fc_1(x))\n",
    "        x = self.relu_4(self.fc_2(x))\n",
    "        x = self.fc_3(x)\n",
    "        return x"
   ]
  },
  {
   "cell_type": "markdown",
   "id": "4fcf9e13",
   "metadata": {},
   "source": [
    "# Train natural model "
   ]
  },
  {
   "cell_type": "code",
   "execution_count": 9,
   "id": "44ffe084",
   "metadata": {},
   "outputs": [],
   "source": [
    "model = LeNet_normal()\n",
    "learning_rate = 0.001\n",
    "epochs = 50 \n",
    "criterion = torch.nn.CrossEntropyLoss(reduction=\"mean\")\n",
    "optimizer = torch.optim.Adam(model.parameters(), lr=learning_rate)"
   ]
  },
  {
   "cell_type": "code",
   "execution_count": 10,
   "id": "344291fe",
   "metadata": {},
   "outputs": [],
   "source": [
    "def evaluate_model(model, data, device):\n",
    "    \"\"\"Evaluate torch model.\"\"\"\n",
    "    model.eval()\n",
    "    logits = torch.Tensor().to(device)\n",
    "    targets = torch.LongTensor().to(device)\n",
    "\n",
    "    with torch.no_grad():\n",
    "        for images, labels in data:\n",
    "            images, labels = images.to(device), labels.to(device)\n",
    "            logits = torch.cat([logits, model(images)])\n",
    "            targets = torch.cat([targets, labels])\n",
    "    \n",
    "    return torch.nn.functional.softmax(logits, dim=1), targets"
   ]
  },
  {
   "cell_type": "code",
   "execution_count": 9,
   "id": "fff6bd74",
   "metadata": {},
   "outputs": [],
   "source": [
    "# Train adversarial model \n",
    "\n",
    "def train_natural_model(model, epochs):\n",
    "    model.train()\n",
    "    for epoch in range(epochs):\n",
    "        for images, labels in train_loader:\n",
    "            images, labels = images.to(device), labels.to(device)\n",
    "            optimizer.zero_grad()\n",
    "            logits = model(images)\n",
    "            loss = criterion(logits, labels)\n",
    "            loss.backward()\n",
    "            optimizer.step()\n",
    "\n",
    "        # Evaluate model!\n",
    "        if epochs%10==0:\n",
    "            predictions, labels = evaluate_model(model, test_loader, device)\n",
    "            test_acc = np.mean(np.argmax(predictions.cpu().numpy(), axis=1) == labels.cpu().numpy())\n",
    "            print(f\"Epoch {epoch+1}/{epochs} - test accuracy: {(100 * test_acc):.2f}% and CE loss {loss.item():.2f}\")\n",
    "    return model"
   ]
  },
  {
   "cell_type": "code",
   "execution_count": 15,
   "id": "d2bb9aa5",
   "metadata": {
    "scrolled": true
   },
   "outputs": [
    {
     "name": "stdout",
     "output_type": "stream",
     "text": [
      "Epoch 1/50 - test accuracy: 82.18% and CE loss 0.54\n",
      "Epoch 2/50 - test accuracy: 86.96% and CE loss 0.21\n",
      "Epoch 3/50 - test accuracy: 87.11% and CE loss 0.45\n",
      "Epoch 4/50 - test accuracy: 88.09% and CE loss 0.22\n",
      "Epoch 5/50 - test accuracy: 88.37% and CE loss 0.06\n",
      "Epoch 6/50 - test accuracy: 88.54% and CE loss 0.36\n",
      "Epoch 7/50 - test accuracy: 89.57% and CE loss 0.29\n",
      "Epoch 8/50 - test accuracy: 89.53% and CE loss 0.27\n",
      "Epoch 9/50 - test accuracy: 89.68% and CE loss 0.07\n",
      "Epoch 10/50 - test accuracy: 90.11% and CE loss 0.07\n",
      "Epoch 11/50 - test accuracy: 90.13% and CE loss 0.12\n",
      "Epoch 12/50 - test accuracy: 89.49% and CE loss 0.21\n",
      "Epoch 13/50 - test accuracy: 89.66% and CE loss 0.21\n",
      "Epoch 14/50 - test accuracy: 90.20% and CE loss 0.11\n",
      "Epoch 15/50 - test accuracy: 90.42% and CE loss 0.14\n",
      "Epoch 16/50 - test accuracy: 90.26% and CE loss 0.08\n",
      "Epoch 17/50 - test accuracy: 89.05% and CE loss 0.19\n",
      "Epoch 18/50 - test accuracy: 89.70% and CE loss 0.12\n",
      "Epoch 19/50 - test accuracy: 90.22% and CE loss 0.17\n",
      "Epoch 20/50 - test accuracy: 89.95% and CE loss 0.04\n",
      "Epoch 21/50 - test accuracy: 90.22% and CE loss 0.10\n",
      "Epoch 22/50 - test accuracy: 89.85% and CE loss 0.21\n",
      "Epoch 23/50 - test accuracy: 90.06% and CE loss 0.31\n",
      "Epoch 24/50 - test accuracy: 90.07% and CE loss 0.10\n",
      "Epoch 25/50 - test accuracy: 89.57% and CE loss 0.03\n",
      "Epoch 26/50 - test accuracy: 89.98% and CE loss 0.05\n",
      "Epoch 27/50 - test accuracy: 89.82% and CE loss 0.11\n",
      "Epoch 28/50 - test accuracy: 89.43% and CE loss 0.17\n",
      "Epoch 29/50 - test accuracy: 89.34% and CE loss 0.04\n",
      "Epoch 30/50 - test accuracy: 89.75% and CE loss 0.07\n",
      "Epoch 31/50 - test accuracy: 89.39% and CE loss 0.11\n",
      "Epoch 32/50 - test accuracy: 90.01% and CE loss 0.01\n",
      "Epoch 33/50 - test accuracy: 89.91% and CE loss 0.20\n",
      "Epoch 34/50 - test accuracy: 89.39% and CE loss 0.10\n",
      "Epoch 35/50 - test accuracy: 89.76% and CE loss 0.24\n",
      "Epoch 36/50 - test accuracy: 89.46% and CE loss 0.04\n",
      "Epoch 37/50 - test accuracy: 89.41% and CE loss 0.05\n",
      "Epoch 38/50 - test accuracy: 89.81% and CE loss 0.04\n",
      "Epoch 39/50 - test accuracy: 89.83% and CE loss 0.00\n",
      "Epoch 40/50 - test accuracy: 89.63% and CE loss 0.12\n",
      "Epoch 41/50 - test accuracy: 89.36% and CE loss 0.03\n",
      "Epoch 42/50 - test accuracy: 89.65% and CE loss 0.01\n",
      "Epoch 43/50 - test accuracy: 89.58% and CE loss 0.05\n",
      "Epoch 44/50 - test accuracy: 89.31% and CE loss 0.23\n",
      "Epoch 45/50 - test accuracy: 89.94% and CE loss 0.28\n",
      "Epoch 46/50 - test accuracy: 89.57% and CE loss 0.13\n",
      "Epoch 47/50 - test accuracy: 89.32% and CE loss 0.04\n",
      "Epoch 48/50 - test accuracy: 88.65% and CE loss 0.13\n",
      "Epoch 49/50 - test accuracy: 89.80% and CE loss 0.01\n",
      "Epoch 50/50 - test accuracy: 89.68% and CE loss 0.02\n"
     ]
    }
   ],
   "source": [
    "model_nat = train_natural_model(model=model.to(device),\n",
    "                    epochs=epochs)"
   ]
  },
  {
   "cell_type": "code",
   "execution_count": 17,
   "id": "82f2f518",
   "metadata": {},
   "outputs": [
    {
     "name": "stdout",
     "output_type": "stream",
     "text": [
      "Model test accuracy: 89.68%\n"
     ]
    }
   ],
   "source": [
    "# Model to GPU and eval mode.\n",
    "model_nat.to(device)\n",
    "model_nat.eval()\n",
    "\n",
    "# Check test set performance.\n",
    "predictions, labels = evaluate_model(model_nat, test_loader, device)\n",
    "test_acc = np.mean(np.argmax(predictions.cpu().numpy(), axis=1) == labels.cpu().numpy())        \n",
    "print(f\"Model test accuracy: {(100 * test_acc):.2f}%\")"
   ]
  },
  {
   "cell_type": "code",
   "execution_count": 18,
   "id": "860a87bd",
   "metadata": {},
   "outputs": [],
   "source": [
    "#save adv model \n",
    "path = 'FMNIST_Natural_model.pth'\n",
    "torch.save(model_nat.state_dict(), path)"
   ]
  },
  {
   "cell_type": "markdown",
   "id": "d3ae4ab4",
   "metadata": {},
   "source": [
    "# Train adversarial models"
   ]
  },
  {
   "cell_type": "code",
   "execution_count": 10,
   "id": "eb00f8af",
   "metadata": {},
   "outputs": [],
   "source": [
    "model = LeNet_normal()"
   ]
  },
  {
   "cell_type": "code",
   "execution_count": 11,
   "id": "ea5e18ab",
   "metadata": {},
   "outputs": [],
   "source": [
    "learning_rate = 1e-4 \n",
    "epochs = 40\n",
    "eps = [0.01, 0.03, 0.06, 0.1, 0.3, 0.5]"
   ]
  },
  {
   "cell_type": "code",
   "execution_count": 12,
   "id": "31aaedd5",
   "metadata": {},
   "outputs": [],
   "source": [
    "criterion = torch.nn.CrossEntropyLoss(reduction=\"mean\")\n",
    "optimizer = torch.optim.Adam(model.parameters(), lr=learning_rate)"
   ]
  },
  {
   "cell_type": "code",
   "execution_count": 53,
   "id": "decd7a4c",
   "metadata": {},
   "outputs": [],
   "source": [
    "def evaluate_model(model, data, device):\n",
    "    \"\"\"Evaluate torch model.\"\"\"\n",
    "    model.eval()\n",
    "    logits = torch.Tensor().to(device)\n",
    "    targets = torch.LongTensor().to(device)\n",
    "\n",
    "    with torch.no_grad():\n",
    "        for images, labels in data:\n",
    "            images, labels = images.to(device), labels.to(device)\n",
    "            logits = torch.cat([logits, model(images)])\n",
    "            targets = torch.cat([targets, labels])\n",
    "    \n",
    "    return torch.nn.functional.softmax(logits, dim=1), targets"
   ]
  },
  {
   "cell_type": "code",
   "execution_count": 54,
   "id": "b58cc0b0",
   "metadata": {},
   "outputs": [],
   "source": [
    "# Train adversarial model \n",
    "\n",
    "def train_Adversarial_model(model, epsilon, epochs):\n",
    "    model.train()\n",
    "    eps = epsilon\n",
    "    for epoch in range(epochs):\n",
    "        for images, labels in train_loader:\n",
    "            images, labels = images.to(device), labels.to(device)\n",
    "            images = projected_gradient_descent(model, images, eps, eps/10, 40, np.inf)\n",
    "            optimizer.zero_grad()\n",
    "            logits = model(images)\n",
    "            loss = criterion(logits, labels)\n",
    "            loss.backward()\n",
    "            optimizer.step()\n",
    "\n",
    "        # Evaluate model!\n",
    "        if epochs%5==0:\n",
    "            predictions, labels = evaluate_model(model, test_loader, device)\n",
    "            test_acc = np.mean(np.argmax(predictions.cpu().numpy(), axis=1) == labels.cpu().numpy())\n",
    "            print(f\"Epoch {epoch+1}/{epochs} - test accuracy: {(100 * test_acc):.2f}% and CE loss {loss.item():.2f}\")\n",
    "    return model"
   ]
  },
  {
   "cell_type": "code",
   "execution_count": 55,
   "id": "68c479d5",
   "metadata": {
    "scrolled": true
   },
   "outputs": [
    {
     "name": "stdout",
     "output_type": "stream",
     "text": [
      "Epoch 1/40 - test accuracy: 72.87% and CE loss 0.40\n",
      "Epoch 2/40 - test accuracy: 74.95% and CE loss 0.71\n",
      "Epoch 3/40 - test accuracy: 78.18% and CE loss 0.64\n",
      "Epoch 4/40 - test accuracy: 79.76% and CE loss 0.53\n",
      "Epoch 5/40 - test accuracy: 80.05% and CE loss 0.82\n",
      "Epoch 6/40 - test accuracy: 81.13% and CE loss 0.75\n",
      "Epoch 7/40 - test accuracy: 82.28% and CE loss 0.68\n",
      "Epoch 8/40 - test accuracy: 82.49% and CE loss 0.38\n",
      "Epoch 9/40 - test accuracy: 83.52% and CE loss 0.39\n",
      "Epoch 10/40 - test accuracy: 84.21% and CE loss 0.40\n",
      "Epoch 11/40 - test accuracy: 84.43% and CE loss 0.51\n",
      "Epoch 12/40 - test accuracy: 83.78% and CE loss 0.71\n",
      "Epoch 13/40 - test accuracy: 85.48% and CE loss 0.39\n",
      "Epoch 14/40 - test accuracy: 85.33% and CE loss 0.48\n",
      "Epoch 15/40 - test accuracy: 85.64% and CE loss 0.37\n",
      "Epoch 16/40 - test accuracy: 86.01% and CE loss 0.41\n",
      "Epoch 17/40 - test accuracy: 85.78% and CE loss 0.75\n",
      "Epoch 18/40 - test accuracy: 86.25% and CE loss 0.26\n",
      "Epoch 19/40 - test accuracy: 86.60% and CE loss 0.53\n",
      "Epoch 20/40 - test accuracy: 86.72% and CE loss 0.46\n",
      "Epoch 21/40 - test accuracy: 87.02% and CE loss 0.54\n",
      "Epoch 22/40 - test accuracy: 87.30% and CE loss 0.40\n",
      "Epoch 23/40 - test accuracy: 87.36% and CE loss 0.32\n",
      "Epoch 24/40 - test accuracy: 87.55% and CE loss 0.29\n",
      "Epoch 25/40 - test accuracy: 87.22% and CE loss 0.57\n",
      "Epoch 26/40 - test accuracy: 87.10% and CE loss 0.24\n",
      "Epoch 27/40 - test accuracy: 87.11% and CE loss 0.18\n",
      "Epoch 28/40 - test accuracy: 87.73% and CE loss 0.38\n",
      "Epoch 29/40 - test accuracy: 87.40% and CE loss 0.36\n",
      "Epoch 30/40 - test accuracy: 87.73% and CE loss 0.38\n",
      "Epoch 31/40 - test accuracy: 87.57% and CE loss 0.32\n",
      "Epoch 32/40 - test accuracy: 87.78% and CE loss 0.32\n",
      "Epoch 33/40 - test accuracy: 87.89% and CE loss 0.30\n",
      "Epoch 34/40 - test accuracy: 88.00% and CE loss 0.48\n",
      "Epoch 35/40 - test accuracy: 87.99% and CE loss 0.43\n",
      "Epoch 36/40 - test accuracy: 88.19% and CE loss 0.34\n",
      "Epoch 37/40 - test accuracy: 88.02% and CE loss 0.25\n",
      "Epoch 38/40 - test accuracy: 88.37% and CE loss 0.33\n",
      "Epoch 39/40 - test accuracy: 88.28% and CE loss 0.18\n",
      "Epoch 40/40 - test accuracy: 88.27% and CE loss 0.28\n"
     ]
    }
   ],
   "source": [
    "model_adv = train_Adversarial_model(model=model.to(device),\n",
    "                    epsilon = eps[0], \n",
    "                    epochs=epochs)"
   ]
  },
  {
   "cell_type": "code",
   "execution_count": 56,
   "id": "2264e2d2",
   "metadata": {},
   "outputs": [
    {
     "name": "stdout",
     "output_type": "stream",
     "text": [
      "Model test accuracy: 88.27%\n"
     ]
    }
   ],
   "source": [
    "# Model to GPU and eval mode.\n",
    "model_adv.to(device)\n",
    "model_adv.eval()\n",
    "\n",
    "# Check test set performance.\n",
    "predictions, labels = evaluate_model(model_adv, test_loader, device)\n",
    "test_acc = np.mean(np.argmax(predictions.cpu().numpy(), axis=1) == labels.cpu().numpy())        \n",
    "print(f\"Model test accuracy: {(100 * test_acc):.2f}%\")"
   ]
  },
  {
   "cell_type": "code",
   "execution_count": 57,
   "id": "3fdfba3a",
   "metadata": {},
   "outputs": [],
   "source": [
    "#save adv model \n",
    "path = 'Eps_A_Adv_model.pth'\n",
    "torch.save(model_adv.state_dict(), path)"
   ]
  },
  {
   "cell_type": "markdown",
   "id": "6c39c556",
   "metadata": {},
   "source": [
    "# Train model for second epsilon setting"
   ]
  },
  {
   "cell_type": "code",
   "execution_count": 59,
   "id": "451f6e58",
   "metadata": {},
   "outputs": [],
   "source": [
    "model = LeNet_normal()"
   ]
  },
  {
   "cell_type": "code",
   "execution_count": 60,
   "id": "2bc153c6",
   "metadata": {},
   "outputs": [],
   "source": [
    "criterion = torch.nn.CrossEntropyLoss(reduction=\"mean\")\n",
    "optimizer = torch.optim.Adam(model.parameters(), lr=learning_rate)"
   ]
  },
  {
   "cell_type": "code",
   "execution_count": 61,
   "id": "97a4f9a5",
   "metadata": {
    "scrolled": true
   },
   "outputs": [
    {
     "name": "stdout",
     "output_type": "stream",
     "text": [
      "Epoch 1/40 - test accuracy: 71.55% and CE loss 0.89\n",
      "Epoch 2/40 - test accuracy: 74.04% and CE loss 0.64\n",
      "Epoch 3/40 - test accuracy: 77.01% and CE loss 0.68\n",
      "Epoch 4/40 - test accuracy: 78.44% and CE loss 0.51\n",
      "Epoch 5/40 - test accuracy: 79.01% and CE loss 0.73\n",
      "Epoch 6/40 - test accuracy: 80.04% and CE loss 0.55\n",
      "Epoch 7/40 - test accuracy: 80.94% and CE loss 0.51\n",
      "Epoch 8/40 - test accuracy: 82.09% and CE loss 0.62\n",
      "Epoch 9/40 - test accuracy: 82.64% and CE loss 0.49\n",
      "Epoch 10/40 - test accuracy: 82.78% and CE loss 0.63\n",
      "Epoch 11/40 - test accuracy: 82.64% and CE loss 0.40\n",
      "Epoch 12/40 - test accuracy: 83.71% and CE loss 0.78\n",
      "Epoch 13/40 - test accuracy: 83.44% and CE loss 0.62\n",
      "Epoch 14/40 - test accuracy: 83.80% and CE loss 0.61\n",
      "Epoch 15/40 - test accuracy: 84.39% and CE loss 0.52\n",
      "Epoch 16/40 - test accuracy: 84.33% and CE loss 0.71\n",
      "Epoch 17/40 - test accuracy: 84.10% and CE loss 0.39\n",
      "Epoch 18/40 - test accuracy: 85.05% and CE loss 0.40\n",
      "Epoch 19/40 - test accuracy: 84.77% and CE loss 0.50\n",
      "Epoch 20/40 - test accuracy: 85.15% and CE loss 0.30\n",
      "Epoch 21/40 - test accuracy: 85.18% and CE loss 0.49\n",
      "Epoch 22/40 - test accuracy: 84.90% and CE loss 0.32\n",
      "Epoch 23/40 - test accuracy: 85.08% and CE loss 0.38\n",
      "Epoch 24/40 - test accuracy: 85.17% and CE loss 0.49\n",
      "Epoch 25/40 - test accuracy: 85.39% and CE loss 0.53\n",
      "Epoch 26/40 - test accuracy: 85.47% and CE loss 0.41\n",
      "Epoch 27/40 - test accuracy: 85.89% and CE loss 0.31\n",
      "Epoch 28/40 - test accuracy: 85.37% and CE loss 0.48\n",
      "Epoch 29/40 - test accuracy: 85.96% and CE loss 0.24\n",
      "Epoch 30/40 - test accuracy: 85.79% and CE loss 0.33\n",
      "Epoch 31/40 - test accuracy: 86.33% and CE loss 0.29\n",
      "Epoch 32/40 - test accuracy: 86.43% and CE loss 0.54\n",
      "Epoch 33/40 - test accuracy: 86.39% and CE loss 0.45\n",
      "Epoch 34/40 - test accuracy: 86.36% and CE loss 0.22\n",
      "Epoch 35/40 - test accuracy: 86.09% and CE loss 0.30\n",
      "Epoch 36/40 - test accuracy: 86.59% and CE loss 0.49\n",
      "Epoch 37/40 - test accuracy: 86.45% and CE loss 0.29\n",
      "Epoch 38/40 - test accuracy: 86.04% and CE loss 0.36\n",
      "Epoch 39/40 - test accuracy: 86.81% and CE loss 0.39\n",
      "Epoch 40/40 - test accuracy: 86.66% and CE loss 0.26\n"
     ]
    }
   ],
   "source": [
    "model_adv = train_Adversarial_model(model=model.to(device),\n",
    "                    epsilon = eps[1], \n",
    "                    epochs=epochs)"
   ]
  },
  {
   "cell_type": "code",
   "execution_count": 62,
   "id": "bb2e2742",
   "metadata": {},
   "outputs": [
    {
     "name": "stdout",
     "output_type": "stream",
     "text": [
      "Model test accuracy: 86.66%\n"
     ]
    }
   ],
   "source": [
    "# Model to GPU and eval mode.\n",
    "model_adv.to(device)\n",
    "model_adv.eval()\n",
    "\n",
    "# Check test set performance.\n",
    "predictions, labels = evaluate_model(model_adv, test_loader, device)\n",
    "test_acc = np.mean(np.argmax(predictions.cpu().numpy(), axis=1) == labels.cpu().numpy())        \n",
    "print(f\"Model test accuracy: {(100 * test_acc):.2f}%\")"
   ]
  },
  {
   "cell_type": "code",
   "execution_count": 63,
   "id": "959fb304",
   "metadata": {},
   "outputs": [],
   "source": [
    "#save adv model \n",
    "path = 'Eps_B_Adv_model.pth'\n",
    "torch.save(model_adv.state_dict(), path)"
   ]
  },
  {
   "cell_type": "markdown",
   "id": "fdd00874",
   "metadata": {},
   "source": [
    "# Train feature map smoothed models"
   ]
  },
  {
   "cell_type": "code",
   "execution_count": 85,
   "id": "19fa0188",
   "metadata": {},
   "outputs": [],
   "source": [
    "learning_rate = 1e-4 \n",
    "epochs = 40\n",
    "eps = [0.01, 0.03, 0.06, 0.1, 0.3]"
   ]
  },
  {
   "cell_type": "markdown",
   "id": "25ca25a8",
   "metadata": {},
   "source": [
    "# Mean filtering"
   ]
  },
  {
   "cell_type": "code",
   "execution_count": 86,
   "id": "a87531ac",
   "metadata": {},
   "outputs": [],
   "source": [
    "class filter_denoising_block(torch.nn.Module):\n",
    "    ''' Simple filters as denoising block'''\n",
    "    def __init__(self, in_planes, ksize, filter_type): \n",
    "        super().__init__()\n",
    "        self.in_planes = in_planes\n",
    "        self.ksize = ksize\n",
    "        self.filter_type = filter_type \n",
    "        self.conv = nn.Conv2d(in_channels=in_planes, out_channels=in_planes, kernel_size=1, stride=1, padding=0)\n",
    "    \n",
    "    def forward(self, x):\n",
    "        if self.filter_type == 'Median':\n",
    "            x_denoised = kornia.filters.median_blur(x, (self.ksize, self.ksize))\n",
    "        elif self.filter_type == 'Mean':\n",
    "            x_denoised = kornia.filters.box_blur(x, (self.ksize, self.ksize))\n",
    "        elif self.filter_type == 'Gaussian':\n",
    "            x_denoised = kornia.filters.gaussian_blur2d(x, (self.ksize, self.ksize), (0.3 * ((x.shape[3] - 1) * 0.5 - 1) + 0.8, 0.3 * ((x.shape[2] - 1) * 0.5 - 1) + 0.8))\n",
    "        new_x = x + self.conv(x_denoised)\n",
    "        return new_x"
   ]
  },
  {
   "cell_type": "code",
   "execution_count": 87,
   "id": "40358a93",
   "metadata": {},
   "outputs": [],
   "source": [
    "class non_local_denoising_block(torch.nn.Module): \n",
    "    def __init__(self, in_channels, inter_channels = None, mode = 'embedded', bn_layer = True):\n",
    "        \n",
    "        \"\"\" in_channels: original channel size (1024 in the paper) #depends on the test dataset\n",
    "            inter_channels: channel size inside the block if not specifed reduced to half (512 in the paper)\n",
    "            mode: supports Gaussian, Embedded Gaussian, Dot Product, and Concatenation\n",
    "            dimension: can be 1 (temporal), 2 (spatial), 3 (spatiotemporal)\n",
    "            bn_layer: whether to add batch norm\n",
    "            \"\"\"\n",
    "        \n",
    "        super().__init__()\n",
    "        self.in_channels = in_channels\n",
    "        self.inter_channels = inter_channels\n",
    "        self.mode = mode \n",
    "        self.inter_channels = inter_channels\n",
    "        \n",
    "         # the channel size is reduced to half inside the block\n",
    "        if self.inter_channels is None:\n",
    "            self.inter_channels = in_channels // 2\n",
    "            if self.inter_channels == 0:\n",
    "                self.inter_channels = 1\n",
    "        \n",
    "        \n",
    "        #dimension=2 for images\n",
    "        conv_nd = nn.Conv2d \n",
    "        max_pool_layer = nn.MaxPool2d(kernel_size=(2,2))\n",
    "        bn = nn.BatchNorm2d\n",
    "        \n",
    "        self.g = conv_nd(in_channels=self.in_channels, out_channels=self.inter_channels, kernel_size=1)\n",
    "        \n",
    "        # add BatchNorm layer after the last conv layer\n",
    "        if bn_layer:\n",
    "            self.W_z = nn.Sequential(\n",
    "                    conv_nd(in_channels=self.inter_channels, out_channels=self.in_channels, kernel_size=1),\n",
    "                    bn(self.in_channels)\n",
    "                )\n",
    "            # from section 4.1 of the paper, initializing params of BN ensures that the initial state of non-local block is identity mapping\n",
    "            nn.init.constant_(self.W_z[1].weight, 0)\n",
    "            nn.init.constant_(self.W_z[1].bias, 0)\n",
    "        else:\n",
    "            self.W_z = conv_nd(in_channels=self.inter_channels, out_channels=self.in_channels, kernel_size=1)\n",
    "            \n",
    "            # from section 3.3 of the paper by initializing Wz to 0, this block can be inserted to any existing architecture\n",
    "            nn.init.constant_(self.W_z.weight, 0)\n",
    "            nn.init.constant_(self.W_z.bias, 0)\n",
    "            \n",
    "            \n",
    "        # define theta and phi for all operations except gaussian\n",
    "        if self.mode == \"embedded\" or self.mode == \"dot\" or self.mode == \"concatenate\":\n",
    "            self.theta = conv_nd(in_channels=self.in_channels, out_channels=self.inter_channels, kernel_size=1)\n",
    "            self.phi = conv_nd(in_channels=self.in_channels, out_channels=self.inter_channels, kernel_size=1)\n",
    "        \n",
    "        if self.mode == \"concatenate\":\n",
    "            self.W_f = nn.Sequential(\n",
    "                    nn.Conv2d(in_channels=self.inter_channels * 2, out_channels=1, kernel_size=1),\n",
    "                    nn.ReLU()\n",
    "                )\n",
    "    \n",
    "    def forward(self, x):\n",
    "        batch_size = x.size(0)\n",
    "        \n",
    "        g_x = self.g(x).view(batch_size, self.inter_channels, -1)\n",
    "        g_x = g_x.permute(0, 2, 1)\n",
    "        \n",
    "        if self.mode == \"nonlocal_gaussian\":\n",
    "            theta_x = x.view(batch_size, self.in_channels, -1)\n",
    "            phi_x = x.view(batch_size, self.in_channels, -1)\n",
    "            theta_x = theta_x.permute(0, 2, 1)\n",
    "            f = torch.matmul(theta_x, phi_x)\n",
    "\n",
    "        elif self.mode == \"embedded\" or self.mode == \"dot\":\n",
    "            theta_x = self.theta(x).view(batch_size, self.inter_channels, -1)\n",
    "            phi_x = self.phi(x).view(batch_size, self.inter_channels, -1)\n",
    "            theta_x = theta_x.permute(0, 2, 1)\n",
    "            f = torch.matmul(theta_x, phi_x)\n",
    "\n",
    "        elif self.mode == \"concatenate\":\n",
    "            theta_x = self.theta(x).view(batch_size, self.inter_channels, -1, 1)\n",
    "            phi_x = self.phi(x).view(batch_size, self.inter_channels, 1, -1)\n",
    "            \n",
    "            h = theta_x.size(2)\n",
    "            w = phi_x.size(3)\n",
    "            theta_x = theta_x.repeat(1, 1, 1, w)\n",
    "            phi_x = phi_x.repeat(1, 1, h, 1)\n",
    "            \n",
    "            concat = torch.cat([theta_x, phi_x], dim=1)\n",
    "            f = self.W_f(concat)\n",
    "            f = f.view(f.size(0), f.size(2), f.size(3))\n",
    "        \n",
    "        if self.mode == \"nonlocal_gaussian\" or self.mode == \"embedded\":\n",
    "            f_div_C = F.softmax(f, dim=-1)\n",
    "        elif self.mode == \"dot\" or self.mode == \"concatenate\":\n",
    "            N = f.size(-1) # number of position in x\n",
    "            f_div_C = f / N\n",
    "        \n",
    "        y = torch.matmul(f_div_C, g_x)\n",
    "        \n",
    "        # contiguous here just allocates contiguous chunk of memory\n",
    "        y = y.permute(0, 2, 1).contiguous()\n",
    "        y = y.view(batch_size, self.inter_channels, *x.size()[2:])\n",
    "        \n",
    "        W_y = self.W_z(y)\n",
    "        # residual connection\n",
    "        z = W_y + x\n",
    "\n",
    "        return z"
   ]
  },
  {
   "cell_type": "code",
   "execution_count": 88,
   "id": "18e89938",
   "metadata": {},
   "outputs": [],
   "source": [
    "class LeNetDenoise(torch.nn.Module):\n",
    "    \"\"\"Network architecture from: https://github.com/ChawDoe/LeNet5-MNIST-PyTorch.\"\"\"\n",
    "    def __init__(self, denoise=\"Mean\", ksize=1):\n",
    "        super().__init__()\n",
    "        self.conv_1 = torch.nn.Conv2d(1, 6, 5)\n",
    "        self.pool_1 = torch.nn.MaxPool2d(2, 2)\n",
    "        self.relu_1 = torch.nn.ReLU()\n",
    "        \n",
    "        # add a denoising layer\n",
    "        if denoise == \"Mean\" or denoise == \"Median\" or denoise == \"Gaussian\":\n",
    "            self.denoise_block1 = filter_denoising_block(in_planes = 6, ksize = ksize, filter_type=denoise)\n",
    "            self.denoise_block2 = filter_denoising_block(in_planes = 16, ksize = ksize, filter_type=denoise)\n",
    "        \n",
    "        elif denoise == \"concatenate\" or denoise == \"dot\" or denoise == \"embedded\" or denoise == \"nonlocal_gaussian\" :\n",
    "            self.denoise_block1 = non_local_denoising_block(in_channels = 6,  mode=denoise) \n",
    "            self.denoise_block2 = non_local_denoising_block(in_channels = 16, mode=denoise) \n",
    "            \n",
    "        self.conv_2 = torch.nn.Conv2d(6, 16, 5)\n",
    "        self.pool_2 = torch.nn.MaxPool2d(2, 2)\n",
    "        self.relu_2 = torch.nn.ReLU()\n",
    "    \n",
    "    \n",
    "        self.fc_1 = torch.nn.Linear(256, 120)\n",
    "        self.relu_3 = torch.nn.ReLU()\n",
    "        self.fc_2 = torch.nn.Linear(120, 84)\n",
    "        self.relu_4 = torch.nn.ReLU()\n",
    "        self.fc_3 = torch.nn.Linear(84, 10)\n",
    "    \n",
    "    def forward(self, x):\n",
    "        x = self.pool_1(self.relu_1(self.conv_1(x)))\n",
    "        x = self.denoise_block1(x) \n",
    "        x = self.pool_2(self.relu_2(self.conv_2(x)))\n",
    "        #x = self.denoise_block2(x)\n",
    "        \n",
    "        x = x.view(x.shape[0], -1)\n",
    "        x = self.relu_3(self.fc_1(x))\n",
    "        x = self.relu_4(self.fc_2(x))\n",
    "        x = self.fc_3(x)\n",
    "        return x"
   ]
  },
  {
   "cell_type": "code",
   "execution_count": 89,
   "id": "6700e011",
   "metadata": {},
   "outputs": [],
   "source": [
    "denoise = \"Mean\"\n",
    "model = LeNetDenoise(denoise=denoise, ksize=3)"
   ]
  },
  {
   "cell_type": "code",
   "execution_count": 90,
   "id": "9b769606",
   "metadata": {},
   "outputs": [],
   "source": [
    "criterion = torch.nn.CrossEntropyLoss(reduction=\"mean\")\n",
    "optimizer = torch.optim.Adam(model.parameters(), lr=learning_rate)"
   ]
  },
  {
   "cell_type": "code",
   "execution_count": 91,
   "id": "7bfa9619",
   "metadata": {
    "scrolled": true
   },
   "outputs": [
    {
     "name": "stdout",
     "output_type": "stream",
     "text": [
      "Epoch 1/40 - test accuracy: 73.57% and CE loss 0.61\n",
      "Epoch 2/40 - test accuracy: 73.51% and CE loss 0.70\n",
      "Epoch 3/40 - test accuracy: 77.72% and CE loss 0.67\n",
      "Epoch 4/40 - test accuracy: 79.01% and CE loss 0.60\n",
      "Epoch 5/40 - test accuracy: 80.37% and CE loss 0.43\n",
      "Epoch 6/40 - test accuracy: 80.03% and CE loss 0.73\n",
      "Epoch 7/40 - test accuracy: 81.94% and CE loss 0.59\n",
      "Epoch 8/40 - test accuracy: 82.35% and CE loss 0.43\n",
      "Epoch 9/40 - test accuracy: 83.03% and CE loss 0.33\n",
      "Epoch 10/40 - test accuracy: 83.28% and CE loss 0.24\n",
      "Epoch 11/40 - test accuracy: 84.05% and CE loss 0.36\n",
      "Epoch 12/40 - test accuracy: 84.50% and CE loss 0.34\n",
      "Epoch 13/40 - test accuracy: 84.81% and CE loss 0.45\n",
      "Epoch 14/40 - test accuracy: 85.49% and CE loss 0.54\n",
      "Epoch 15/40 - test accuracy: 85.15% and CE loss 0.38\n",
      "Epoch 16/40 - test accuracy: 85.66% and CE loss 0.33\n",
      "Epoch 17/40 - test accuracy: 86.06% and CE loss 0.39\n",
      "Epoch 18/40 - test accuracy: 86.31% and CE loss 0.42\n",
      "Epoch 19/40 - test accuracy: 86.34% and CE loss 0.31\n",
      "Epoch 20/40 - test accuracy: 85.87% and CE loss 0.35\n",
      "Epoch 21/40 - test accuracy: 86.60% and CE loss 0.50\n",
      "Epoch 22/40 - test accuracy: 86.97% and CE loss 0.23\n",
      "Epoch 23/40 - test accuracy: 87.04% and CE loss 0.25\n",
      "Epoch 24/40 - test accuracy: 87.39% and CE loss 0.22\n",
      "Epoch 25/40 - test accuracy: 87.00% and CE loss 0.26\n",
      "Epoch 26/40 - test accuracy: 86.94% and CE loss 0.40\n",
      "Epoch 27/40 - test accuracy: 87.45% and CE loss 0.40\n",
      "Epoch 28/40 - test accuracy: 87.53% and CE loss 0.32\n",
      "Epoch 29/40 - test accuracy: 87.70% and CE loss 0.31\n",
      "Epoch 30/40 - test accuracy: 87.37% and CE loss 0.23\n",
      "Epoch 31/40 - test accuracy: 88.08% and CE loss 0.39\n",
      "Epoch 32/40 - test accuracy: 88.00% and CE loss 0.47\n",
      "Epoch 33/40 - test accuracy: 87.86% and CE loss 0.54\n",
      "Epoch 34/40 - test accuracy: 88.23% and CE loss 0.21\n",
      "Epoch 35/40 - test accuracy: 87.99% and CE loss 0.19\n",
      "Epoch 36/40 - test accuracy: 88.27% and CE loss 0.10\n",
      "Epoch 37/40 - test accuracy: 88.24% and CE loss 0.50\n",
      "Epoch 38/40 - test accuracy: 88.37% and CE loss 0.27\n",
      "Epoch 39/40 - test accuracy: 88.37% and CE loss 0.34\n",
      "Epoch 40/40 - test accuracy: 88.27% and CE loss 0.15\n"
     ]
    }
   ],
   "source": [
    "model_adv = train_Adversarial_model(model=model.to(device),\n",
    "                    epsilon = eps[0], \n",
    "                    epochs=epochs)"
   ]
  },
  {
   "cell_type": "code",
   "execution_count": 92,
   "id": "885c437d",
   "metadata": {},
   "outputs": [
    {
     "name": "stdout",
     "output_type": "stream",
     "text": [
      "Model test accuracy: 88.27%\n"
     ]
    }
   ],
   "source": [
    "# Model to GPU and eval mode.\n",
    "model_adv.to(device)\n",
    "model_adv.eval()\n",
    "\n",
    "# Check test set performance.\n",
    "predictions, labels = evaluate_model(model_adv, test_loader, device)\n",
    "test_acc = np.mean(np.argmax(predictions.cpu().numpy(), axis=1) == labels.cpu().numpy())        \n",
    "print(f\"Model test accuracy: {(100 * test_acc):.2f}%\")"
   ]
  },
  {
   "cell_type": "code",
   "execution_count": 93,
   "id": "f9db6b60",
   "metadata": {},
   "outputs": [],
   "source": [
    "#save adv model \n",
    "path = 'Eps_A_Mean_Adv_model.pth'\n",
    "torch.save(model_adv.state_dict(), path)"
   ]
  },
  {
   "cell_type": "markdown",
   "id": "a232b9fa",
   "metadata": {},
   "source": [
    "# Median"
   ]
  },
  {
   "cell_type": "code",
   "execution_count": 123,
   "id": "b171783d",
   "metadata": {},
   "outputs": [],
   "source": [
    "learning_rate = 1e-4 \n",
    "epochs = 40\n",
    "eps = [0.01, 0.03, 0.06, 0.1, 0.3]"
   ]
  },
  {
   "cell_type": "code",
   "execution_count": 124,
   "id": "ab513884",
   "metadata": {
    "scrolled": true
   },
   "outputs": [
    {
     "name": "stdout",
     "output_type": "stream",
     "text": [
      "Epoch 1/40 - test accuracy: 72.62% and CE loss 0.76\n",
      "Epoch 2/40 - test accuracy: 74.69% and CE loss 0.52\n",
      "Epoch 3/40 - test accuracy: 77.50% and CE loss 0.49\n",
      "Epoch 4/40 - test accuracy: 78.90% and CE loss 0.44\n",
      "Epoch 5/40 - test accuracy: 80.35% and CE loss 0.32\n",
      "Epoch 6/40 - test accuracy: 81.53% and CE loss 0.47\n",
      "Epoch 7/40 - test accuracy: 80.89% and CE loss 0.60\n",
      "Epoch 8/40 - test accuracy: 82.29% and CE loss 0.53\n",
      "Epoch 9/40 - test accuracy: 83.53% and CE loss 0.48\n",
      "Epoch 10/40 - test accuracy: 83.53% and CE loss 0.67\n",
      "Epoch 11/40 - test accuracy: 84.28% and CE loss 0.56\n",
      "Epoch 12/40 - test accuracy: 83.83% and CE loss 0.52\n",
      "Epoch 13/40 - test accuracy: 84.14% and CE loss 0.33\n",
      "Epoch 14/40 - test accuracy: 84.55% and CE loss 0.65\n",
      "Epoch 15/40 - test accuracy: 85.28% and CE loss 0.60\n",
      "Epoch 16/40 - test accuracy: 85.44% and CE loss 0.38\n",
      "Epoch 17/40 - test accuracy: 85.53% and CE loss 0.33\n",
      "Epoch 18/40 - test accuracy: 85.84% and CE loss 0.74\n",
      "Epoch 19/40 - test accuracy: 86.05% and CE loss 0.41\n",
      "Epoch 20/40 - test accuracy: 86.27% and CE loss 0.41\n",
      "Epoch 21/40 - test accuracy: 86.51% and CE loss 0.48\n",
      "Epoch 22/40 - test accuracy: 86.84% and CE loss 0.57\n",
      "Epoch 23/40 - test accuracy: 86.40% and CE loss 0.30\n",
      "Epoch 24/40 - test accuracy: 86.84% and CE loss 0.42\n",
      "Epoch 25/40 - test accuracy: 87.11% and CE loss 0.17\n",
      "Epoch 26/40 - test accuracy: 87.16% and CE loss 0.47\n",
      "Epoch 27/40 - test accuracy: 87.10% and CE loss 0.58\n",
      "Epoch 28/40 - test accuracy: 87.14% and CE loss 0.59\n",
      "Epoch 29/40 - test accuracy: 87.07% and CE loss 0.34\n",
      "Epoch 30/40 - test accuracy: 87.23% and CE loss 0.59\n",
      "Epoch 31/40 - test accuracy: 86.97% and CE loss 0.30\n",
      "Epoch 32/40 - test accuracy: 87.47% and CE loss 0.28\n",
      "Epoch 33/40 - test accuracy: 87.51% and CE loss 0.60\n",
      "Epoch 34/40 - test accuracy: 87.51% and CE loss 0.18\n",
      "Epoch 35/40 - test accuracy: 87.78% and CE loss 0.28\n",
      "Epoch 36/40 - test accuracy: 87.80% and CE loss 0.33\n",
      "Epoch 37/40 - test accuracy: 87.85% and CE loss 0.31\n",
      "Epoch 38/40 - test accuracy: 88.08% and CE loss 0.54\n",
      "Epoch 39/40 - test accuracy: 88.07% and CE loss 0.35\n",
      "Epoch 40/40 - test accuracy: 88.06% and CE loss 0.20\n"
     ]
    }
   ],
   "source": [
    "denoise = \"Median\"\n",
    "model = LeNetDenoise(denoise=denoise, ksize=3)\n",
    "\n",
    "\n",
    "criterion = torch.nn.CrossEntropyLoss(reduction=\"mean\")\n",
    "optimizer = torch.optim.Adam(model.parameters(), lr=learning_rate)\n",
    "\n",
    "model_adv = train_Adversarial_model(model=model.to(device),\n",
    "                    epsilon = eps[0], \n",
    "                    epochs=epochs)"
   ]
  },
  {
   "cell_type": "code",
   "execution_count": 125,
   "id": "5f62f6c7",
   "metadata": {},
   "outputs": [
    {
     "name": "stdout",
     "output_type": "stream",
     "text": [
      "Model test accuracy: 88.06%\n"
     ]
    }
   ],
   "source": [
    "# Model to GPU and eval mode.\n",
    "model_adv.to(device)\n",
    "model_adv.eval()\n",
    "\n",
    "# Check test set performance.\n",
    "predictions, labels = evaluate_model(model_adv, test_loader, device)\n",
    "test_acc = np.mean(np.argmax(predictions.cpu().numpy(), axis=1) == labels.cpu().numpy())        \n",
    "print(f\"Model test accuracy: {(100 * test_acc):.2f}%\")\n",
    "\n",
    "\n",
    "#save adv model \n",
    "path = 'Eps_A_Median_Adv_model.pth'\n",
    "torch.save(model_adv.state_dict(), path)"
   ]
  },
  {
   "cell_type": "code",
   "execution_count": 127,
   "id": "45edc87e",
   "metadata": {},
   "outputs": [],
   "source": [
    "del model \n",
    "del model_adv"
   ]
  },
  {
   "cell_type": "markdown",
   "id": "a1a9d366",
   "metadata": {},
   "source": [
    "# Gaussian"
   ]
  },
  {
   "cell_type": "code",
   "execution_count": 144,
   "id": "5b328511",
   "metadata": {},
   "outputs": [],
   "source": [
    "learning_rate = 1e-4 \n",
    "epochs = 40\n",
    "eps = [0.01, 0.03, 0.06, 0.1, 0.3]"
   ]
  },
  {
   "cell_type": "code",
   "execution_count": 145,
   "id": "e8cdf72b",
   "metadata": {
    "scrolled": true
   },
   "outputs": [
    {
     "name": "stdout",
     "output_type": "stream",
     "text": [
      "Epoch 1/40 - test accuracy: 73.27% and CE loss 1.16\n",
      "Epoch 2/40 - test accuracy: 76.40% and CE loss 0.64\n",
      "Epoch 3/40 - test accuracy: 78.31% and CE loss 0.52\n",
      "Epoch 4/40 - test accuracy: 79.00% and CE loss 0.77\n",
      "Epoch 5/40 - test accuracy: 80.05% and CE loss 0.41\n",
      "Epoch 6/40 - test accuracy: 81.77% and CE loss 0.84\n",
      "Epoch 7/40 - test accuracy: 82.59% and CE loss 0.48\n",
      "Epoch 8/40 - test accuracy: 83.27% and CE loss 0.47\n",
      "Epoch 9/40 - test accuracy: 84.12% and CE loss 0.40\n",
      "Epoch 10/40 - test accuracy: 84.40% and CE loss 0.35\n",
      "Epoch 11/40 - test accuracy: 84.34% and CE loss 0.41\n",
      "Epoch 12/40 - test accuracy: 84.85% and CE loss 0.46\n",
      "Epoch 13/40 - test accuracy: 85.26% and CE loss 0.29\n",
      "Epoch 14/40 - test accuracy: 85.97% and CE loss 0.52\n",
      "Epoch 15/40 - test accuracy: 86.00% and CE loss 0.23\n",
      "Epoch 16/40 - test accuracy: 86.18% and CE loss 0.45\n",
      "Epoch 17/40 - test accuracy: 86.41% and CE loss 0.39\n",
      "Epoch 18/40 - test accuracy: 86.54% and CE loss 0.28\n",
      "Epoch 19/40 - test accuracy: 86.51% and CE loss 0.33\n",
      "Epoch 20/40 - test accuracy: 86.89% and CE loss 0.26\n",
      "Epoch 21/40 - test accuracy: 87.20% and CE loss 0.22\n",
      "Epoch 22/40 - test accuracy: 86.93% and CE loss 0.31\n",
      "Epoch 23/40 - test accuracy: 87.42% and CE loss 0.40\n",
      "Epoch 24/40 - test accuracy: 87.10% and CE loss 0.24\n",
      "Epoch 25/40 - test accuracy: 87.31% and CE loss 0.46\n",
      "Epoch 26/40 - test accuracy: 87.40% and CE loss 0.16\n",
      "Epoch 27/40 - test accuracy: 87.95% and CE loss 0.32\n",
      "Epoch 28/40 - test accuracy: 87.92% and CE loss 0.22\n",
      "Epoch 29/40 - test accuracy: 87.35% and CE loss 0.31\n",
      "Epoch 30/40 - test accuracy: 88.06% and CE loss 0.45\n",
      "Epoch 31/40 - test accuracy: 88.38% and CE loss 0.23\n",
      "Epoch 32/40 - test accuracy: 88.35% and CE loss 0.47\n",
      "Epoch 33/40 - test accuracy: 88.27% and CE loss 0.31\n",
      "Epoch 34/40 - test accuracy: 88.43% and CE loss 0.39\n",
      "Epoch 35/40 - test accuracy: 88.41% and CE loss 0.38\n",
      "Epoch 36/40 - test accuracy: 88.48% and CE loss 0.53\n",
      "Epoch 37/40 - test accuracy: 88.73% and CE loss 0.17\n",
      "Epoch 38/40 - test accuracy: 88.27% and CE loss 0.44\n",
      "Epoch 39/40 - test accuracy: 88.50% and CE loss 0.36\n",
      "Epoch 40/40 - test accuracy: 88.71% and CE loss 0.44\n"
     ]
    }
   ],
   "source": [
    "denoise = \"Gaussian\"\n",
    "model = LeNetDenoise(denoise=denoise, ksize=3)\n",
    "\n",
    "\n",
    "criterion = torch.nn.CrossEntropyLoss(reduction=\"mean\")\n",
    "optimizer = torch.optim.Adam(model.parameters(), lr=learning_rate)\n",
    "\n",
    "model_adv = train_Adversarial_model(model=model.to(device),\n",
    "                    epsilon = eps[0], \n",
    "                    epochs=epochs)"
   ]
  },
  {
   "cell_type": "code",
   "execution_count": 146,
   "id": "bbd3ed9b",
   "metadata": {},
   "outputs": [
    {
     "name": "stdout",
     "output_type": "stream",
     "text": [
      "Model test accuracy: 88.71%\n"
     ]
    }
   ],
   "source": [
    "# Model to GPU and eval mode.\n",
    "model_adv.to(device)\n",
    "model_adv.eval()\n",
    "\n",
    "# Check test set performance.\n",
    "predictions, labels = evaluate_model(model_adv, test_loader, device)\n",
    "test_acc = np.mean(np.argmax(predictions.cpu().numpy(), axis=1) == labels.cpu().numpy())        \n",
    "print(f\"Model test accuracy: {(100 * test_acc):.2f}%\")\n",
    "\n",
    "\n",
    "#save adv model \n",
    "path = 'Eps_A_Gaussian_Adv_model.pth'\n",
    "torch.save(model_adv.state_dict(), path)"
   ]
  },
  {
   "cell_type": "code",
   "execution_count": 148,
   "id": "4a7cb8d5",
   "metadata": {},
   "outputs": [],
   "source": [
    "del model \n",
    "del model_adv"
   ]
  },
  {
   "cell_type": "markdown",
   "id": "f5643206",
   "metadata": {},
   "source": [
    "# Embedded "
   ]
  },
  {
   "cell_type": "code",
   "execution_count": 165,
   "id": "0eac04f8",
   "metadata": {},
   "outputs": [],
   "source": [
    "learning_rate = 1e-4 \n",
    "epochs = 40\n",
    "eps = [0.01, 0.03, 0.06, 0.1, 0.3]"
   ]
  },
  {
   "cell_type": "code",
   "execution_count": 167,
   "id": "361a4b32",
   "metadata": {
    "scrolled": true
   },
   "outputs": [
    {
     "name": "stdout",
     "output_type": "stream",
     "text": [
      "Epoch 1/40 - test accuracy: 70.21% and CE loss 0.83\n",
      "Epoch 2/40 - test accuracy: 75.24% and CE loss 0.46\n",
      "Epoch 3/40 - test accuracy: 76.58% and CE loss 0.45\n",
      "Epoch 4/40 - test accuracy: 77.90% and CE loss 0.29\n",
      "Epoch 5/40 - test accuracy: 79.26% and CE loss 0.59\n",
      "Epoch 6/40 - test accuracy: 80.44% and CE loss 0.69\n",
      "Epoch 7/40 - test accuracy: 81.03% and CE loss 0.45\n",
      "Epoch 8/40 - test accuracy: 82.07% and CE loss 0.23\n",
      "Epoch 9/40 - test accuracy: 82.57% and CE loss 0.63\n",
      "Epoch 10/40 - test accuracy: 83.29% and CE loss 0.48\n",
      "Epoch 11/40 - test accuracy: 83.75% and CE loss 0.31\n",
      "Epoch 12/40 - test accuracy: 84.82% and CE loss 0.50\n",
      "Epoch 13/40 - test accuracy: 83.92% and CE loss 0.38\n",
      "Epoch 14/40 - test accuracy: 85.60% and CE loss 0.40\n",
      "Epoch 15/40 - test accuracy: 85.95% and CE loss 0.54\n",
      "Epoch 16/40 - test accuracy: 85.71% and CE loss 0.39\n",
      "Epoch 17/40 - test accuracy: 86.28% and CE loss 0.57\n",
      "Epoch 18/40 - test accuracy: 86.11% and CE loss 0.40\n",
      "Epoch 19/40 - test accuracy: 86.32% and CE loss 0.34\n",
      "Epoch 20/40 - test accuracy: 86.40% and CE loss 0.22\n",
      "Epoch 21/40 - test accuracy: 86.83% and CE loss 0.46\n",
      "Epoch 22/40 - test accuracy: 86.22% and CE loss 0.25\n",
      "Epoch 23/40 - test accuracy: 87.32% and CE loss 0.42\n",
      "Epoch 24/40 - test accuracy: 87.27% and CE loss 0.46\n",
      "Epoch 25/40 - test accuracy: 87.33% and CE loss 0.44\n",
      "Epoch 26/40 - test accuracy: 87.21% and CE loss 0.43\n",
      "Epoch 27/40 - test accuracy: 87.91% and CE loss 0.40\n",
      "Epoch 28/40 - test accuracy: 88.01% and CE loss 0.23\n",
      "Epoch 29/40 - test accuracy: 87.45% and CE loss 0.20\n",
      "Epoch 30/40 - test accuracy: 87.87% and CE loss 0.41\n",
      "Epoch 31/40 - test accuracy: 88.00% and CE loss 0.38\n",
      "Epoch 32/40 - test accuracy: 88.24% and CE loss 0.33\n",
      "Epoch 33/40 - test accuracy: 88.28% and CE loss 0.54\n",
      "Epoch 34/40 - test accuracy: 88.46% and CE loss 0.26\n",
      "Epoch 35/40 - test accuracy: 88.43% and CE loss 0.33\n",
      "Epoch 36/40 - test accuracy: 88.43% and CE loss 0.12\n",
      "Epoch 37/40 - test accuracy: 88.33% and CE loss 0.28\n",
      "Epoch 38/40 - test accuracy: 88.44% and CE loss 0.22\n",
      "Epoch 39/40 - test accuracy: 88.57% and CE loss 0.48\n",
      "Epoch 40/40 - test accuracy: 88.56% and CE loss 0.46\n"
     ]
    }
   ],
   "source": [
    "model = LeNetDenoise(denoise=\"embedded\")\n",
    "criterion = torch.nn.CrossEntropyLoss(reduction=\"mean\")\n",
    "optimizer = torch.optim.Adam(model.parameters(), lr=learning_rate)\n",
    "\n",
    "model_adv = train_Adversarial_model(model=model.to(device),\n",
    "                    epsilon = eps[0], \n",
    "                    epochs=epochs)"
   ]
  },
  {
   "cell_type": "code",
   "execution_count": 168,
   "id": "1d8de3c2",
   "metadata": {},
   "outputs": [
    {
     "name": "stdout",
     "output_type": "stream",
     "text": [
      "Model test accuracy: 88.56%\n"
     ]
    }
   ],
   "source": [
    "# Model to GPU and eval mode.\n",
    "model_adv.to(device)\n",
    "model_adv.eval()\n",
    "\n",
    "# Check test set performance.\n",
    "predictions, labels = evaluate_model(model_adv, test_loader, device)\n",
    "test_acc = np.mean(np.argmax(predictions.cpu().numpy(), axis=1) == labels.cpu().numpy())        \n",
    "print(f\"Model test accuracy: {(100 * test_acc):.2f}%\")\n",
    "\n",
    "\n",
    "#save adv model \n",
    "path = 'Eps_A_Embed_Adv_model.pth'\n",
    "torch.save(model_adv.state_dict(), path)"
   ]
  },
  {
   "cell_type": "code",
   "execution_count": 170,
   "id": "2c053eee",
   "metadata": {},
   "outputs": [],
   "source": [
    "del model \n",
    "del model_adv"
   ]
  },
  {
   "cell_type": "markdown",
   "id": "69f03c54",
   "metadata": {},
   "source": [
    "# Non Local Gaussian"
   ]
  },
  {
   "cell_type": "code",
   "execution_count": 188,
   "id": "6914b7c8",
   "metadata": {
    "scrolled": true
   },
   "outputs": [
    {
     "name": "stdout",
     "output_type": "stream",
     "text": [
      "Epoch 1/40 - test accuracy: 72.38% and CE loss 0.58\n",
      "Epoch 2/40 - test accuracy: 74.40% and CE loss 0.85\n",
      "Epoch 3/40 - test accuracy: 76.31% and CE loss 0.54\n",
      "Epoch 4/40 - test accuracy: 78.07% and CE loss 0.68\n",
      "Epoch 5/40 - test accuracy: 78.85% and CE loss 0.76\n",
      "Epoch 6/40 - test accuracy: 79.78% and CE loss 0.65\n",
      "Epoch 7/40 - test accuracy: 81.28% and CE loss 0.52\n",
      "Epoch 8/40 - test accuracy: 81.98% and CE loss 0.44\n",
      "Epoch 9/40 - test accuracy: 82.68% and CE loss 0.46\n",
      "Epoch 10/40 - test accuracy: 83.05% and CE loss 0.48\n",
      "Epoch 11/40 - test accuracy: 83.95% and CE loss 0.55\n",
      "Epoch 12/40 - test accuracy: 84.24% and CE loss 0.33\n",
      "Epoch 13/40 - test accuracy: 84.85% and CE loss 0.35\n",
      "Epoch 14/40 - test accuracy: 84.77% and CE loss 0.63\n",
      "Epoch 15/40 - test accuracy: 84.72% and CE loss 0.52\n",
      "Epoch 16/40 - test accuracy: 85.07% and CE loss 0.58\n",
      "Epoch 17/40 - test accuracy: 85.39% and CE loss 0.28\n",
      "Epoch 18/40 - test accuracy: 86.05% and CE loss 0.29\n",
      "Epoch 19/40 - test accuracy: 85.97% and CE loss 0.35\n",
      "Epoch 20/40 - test accuracy: 84.96% and CE loss 0.46\n",
      "Epoch 21/40 - test accuracy: 86.49% and CE loss 0.25\n",
      "Epoch 22/40 - test accuracy: 86.10% and CE loss 0.66\n",
      "Epoch 23/40 - test accuracy: 86.67% and CE loss 0.45\n",
      "Epoch 24/40 - test accuracy: 86.42% and CE loss 0.15\n",
      "Epoch 25/40 - test accuracy: 85.93% and CE loss 0.19\n",
      "Epoch 26/40 - test accuracy: 86.82% and CE loss 0.28\n",
      "Epoch 27/40 - test accuracy: 87.00% and CE loss 0.26\n",
      "Epoch 28/40 - test accuracy: 86.55% and CE loss 0.34\n",
      "Epoch 29/40 - test accuracy: 87.09% and CE loss 0.33\n",
      "Epoch 30/40 - test accuracy: 87.36% and CE loss 0.10\n",
      "Epoch 31/40 - test accuracy: 87.14% and CE loss 0.30\n",
      "Epoch 32/40 - test accuracy: 87.53% and CE loss 0.31\n",
      "Epoch 33/40 - test accuracy: 87.54% and CE loss 0.21\n",
      "Epoch 34/40 - test accuracy: 87.13% and CE loss 0.40\n",
      "Epoch 35/40 - test accuracy: 87.88% and CE loss 0.44\n",
      "Epoch 36/40 - test accuracy: 87.90% and CE loss 0.31\n",
      "Epoch 37/40 - test accuracy: 87.52% and CE loss 0.38\n",
      "Epoch 38/40 - test accuracy: 87.78% and CE loss 0.31\n",
      "Epoch 39/40 - test accuracy: 87.17% and CE loss 0.11\n",
      "Epoch 40/40 - test accuracy: 87.29% and CE loss 0.39\n"
     ]
    }
   ],
   "source": [
    "model = LeNetDenoise(denoise=\"nonlocal_gaussian\")\n",
    "criterion = torch.nn.CrossEntropyLoss(reduction=\"mean\")\n",
    "optimizer = torch.optim.Adam(model.parameters(), lr=learning_rate)\n",
    "\n",
    "model_adv = train_Adversarial_model(model=model.to(device),\n",
    "                    epsilon = eps[0], \n",
    "                    epochs=epochs)"
   ]
  },
  {
   "cell_type": "code",
   "execution_count": 189,
   "id": "31bb1da1",
   "metadata": {},
   "outputs": [
    {
     "name": "stdout",
     "output_type": "stream",
     "text": [
      "Model test accuracy: 87.29%\n"
     ]
    }
   ],
   "source": [
    "# Model to GPU and eval mode.\n",
    "model_adv.to(device)\n",
    "model_adv.eval()\n",
    "\n",
    "# Check test set performance.\n",
    "predictions, labels = evaluate_model(model_adv, test_loader, device)\n",
    "test_acc = np.mean(np.argmax(predictions.cpu().numpy(), axis=1) == labels.cpu().numpy())        \n",
    "print(f\"Model test accuracy: {(100 * test_acc):.2f}%\")\n",
    "\n",
    "\n",
    "#save adv model \n",
    "path = 'Eps_A_NonLocal_Adv_model.pth'\n",
    "torch.save(model_adv.state_dict(), path)"
   ]
  },
  {
   "cell_type": "code",
   "execution_count": 191,
   "id": "94b6822e",
   "metadata": {},
   "outputs": [],
   "source": [
    "del model\n",
    "del model_adv"
   ]
  },
  {
   "cell_type": "code",
   "execution_count": null,
   "id": "483d3a21",
   "metadata": {},
   "outputs": [],
   "source": []
  }
 ],
 "metadata": {
  "kernelspec": {
   "display_name": "denoise_project",
   "language": "python",
   "name": "denoise_project"
  },
  "language_info": {
   "codemirror_mode": {
    "name": "ipython",
    "version": 3
   },
   "file_extension": ".py",
   "mimetype": "text/x-python",
   "name": "python",
   "nbconvert_exporter": "python",
   "pygments_lexer": "ipython3",
   "version": "3.8.10"
  }
 },
 "nbformat": 4,
 "nbformat_minor": 5
}
